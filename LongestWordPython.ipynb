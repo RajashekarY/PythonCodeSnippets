{
 "cells": [
  {
   "cell_type": "code",
   "execution_count": 30,
   "metadata": {},
   "outputs": [],
   "source": [
    "#givenInput = \"Hello2017HappyNewYear2018Come\"\n",
    "givenInput = \"Rajashekar24YearsOld15days2HisBirthDay\"\n",
    "givenInput = \"thisIs2Test3moreWords2FitinTheListCreated5ButNotWorking7YouCan5ForkIt\"\n"
   ]
  },
  {
   "cell_type": "code",
   "execution_count": 31,
   "metadata": {},
   "outputs": [],
   "source": [
    "# longest K words in a list \n",
    "from itertools import count \n",
    "def longest_word(wordsInInput, K): \n",
    "\tcnt = count() \n",
    "\treturn sorted(wordsInInput, key = lambda w : (len(w), next(cnt)),reverse = True)[:K] \n",
    "#print(longest_word(lst, K)) "
   ]
  },
  {
   "cell_type": "code",
   "execution_count": 32,
   "metadata": {},
   "outputs": [],
   "source": [
    "def charCheck(input_char):\n",
    "    wordsInInput = []\n",
    "    EmptyString = ''\n",
    "    for i in givenInput:\n",
    "        # CHECKING FOR ALPHABET\n",
    "        if ((int(ord(i)) >= 65 and int(ord(i)) <= 122)):\n",
    "            #print( \" Alphabet \",i)\n",
    "            EmptyString = EmptyString+i\n",
    "        # CHECKING FOR\n",
    "        elif(int(ord(i)) >= 48) and (int(ord(i)) <= 57):\n",
    "            #print(\" Digit \")\n",
    "            wordsInInput.append(EmptyString)\n",
    "            EmptyString = ''\n",
    "\n",
    "            # OTHERWISE SPECIAL CHARACTER \n",
    "        #else:\n",
    "        #    pass\n",
    "            #print(\" Special Character \")\n",
    "        for i in wordsInInput:\n",
    "            if len(i)==0:\n",
    "                wordsInInput.remove(i)\n",
    "        # Driver Code \n",
    "        #input_char = '$'\n",
    "        #charCheck(input_char) \n",
    "    #print(wordsInInput)\n",
    "    print(longest_word(wordsInInput,5))"
   ]
  },
  {
   "cell_type": "code",
   "execution_count": 33,
   "metadata": {},
   "outputs": [
    {
     "name": "stdout",
     "output_type": "stream",
     "text": [
      "['FitinTheListCreated', 'ButNotWorking', 'moreWords', 'YouCan', 'thisIs']\n"
     ]
    }
   ],
   "source": [
    "charCheck(givenInput)"
   ]
  },
  {
   "cell_type": "code",
   "execution_count": null,
   "metadata": {},
   "outputs": [],
   "source": []
  }
 ],
 "metadata": {
  "kernelspec": {
   "display_name": "Python 3",
   "language": "python",
   "name": "python3"
  },
  "language_info": {
   "codemirror_mode": {
    "name": "ipython",
    "version": 3
   },
   "file_extension": ".py",
   "mimetype": "text/x-python",
   "name": "python",
   "nbconvert_exporter": "python",
   "pygments_lexer": "ipython3",
   "version": "3.7.0"
  }
 },
 "nbformat": 4,
 "nbformat_minor": 2
}
