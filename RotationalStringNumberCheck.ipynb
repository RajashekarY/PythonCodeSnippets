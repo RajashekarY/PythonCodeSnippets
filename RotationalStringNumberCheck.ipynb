{
 "cells": [
  {
   "cell_type": "markdown",
   "metadata": {},
   "source": [
    "## Given String is Rotational or Not?\n",
    "__There are many ways to do the same thing but with out using any module or dependencies this is a method where numbers or words are checked for cyclic repetition__"
   ]
  },
  {
   "cell_type": "code",
   "execution_count": 1,
   "metadata": {},
   "outputs": [
    {
     "name": "stdout",
     "output_type": "stream",
     "text": [
      "Enter a word 1 : qwerty\n",
      "Enter a word 2 : wertyu\n"
     ]
    }
   ],
   "source": [
    "inp1= input(\"Enter a word 1 : \")\n",
    "inp2 = input(\"Enter a word 2 : \")\n",
    "in1=[]\n",
    "in2=[]\n",
    "for i in inp1:\n",
    "    in1.append(i)\n",
    "for j in inp2:\n",
    "    in2.append(j)"
   ]
  },
  {
   "cell_type": "markdown",
   "metadata": {},
   "source": [
    "#### How it should not be done!!"
   ]
  },
  {
   "cell_type": "code",
   "execution_count": 2,
   "metadata": {},
   "outputs": [],
   "source": [
    "##if len(inp1)==len(inp2):\n",
    "##        for k in in2:\n",
    "##            if k in in1:\n",
    "##                index = in1.index(k)\n",
    "##            for i in in1[index:]:\n",
    "##                if i==in1[index]:\n",
    "##                    #print(i,index)\n",
    "##                    for i in range(len(inp1)):\n",
    "##                        if in1 is not in2:\n",
    "##                            for i in range(len(in2)):\n",
    "##                                in2.insert(0,in2.pop())\n",
    "##                                if in1==in2:\n",
    "##                                    print(\"rotational\")\n",
    "##                                    break\n",
    "##\n",
    "##                                else:\n",
    "##                                    print(\"not rotational\")\n",
    "##                                    \n",
    "##else:\n",
    "##    print(\"word 1 length is not equal to word 2\")\n"
   ]
  },
  {
   "cell_type": "code",
   "execution_count": 3,
   "metadata": {},
   "outputs": [
    {
     "data": {
      "text/markdown": [
       "# The Right Way!!"
      ],
      "text/plain": [
       "<IPython.core.display.Markdown object>"
      ]
     },
     "metadata": {},
     "output_type": "display_data"
    }
   ],
   "source": [
    "%%markdown\n",
    "# The Right Way!!"
   ]
  },
  {
   "cell_type": "code",
   "execution_count": 4,
   "metadata": {},
   "outputs": [],
   "source": [
    "def rotational(in1,in2):\n",
    "    inp1= input(\"Enter a word 1 of your choice: \")\n",
    "    inp2 = input(\"Enter a word 2 : \")\n",
    "    in1=[]\n",
    "    in2=[]\n",
    "    for i in inp1:\n",
    "        in1.append(i)\n",
    "    for j in inp2:\n",
    "        in2.append(j)\n",
    "    print(\"Before Rotation:\",in1,in2)\n",
    "    for i in range(len(in2)):\n",
    "        if len(in1)==len(in2):\n",
    "            if in1 is not in2:\n",
    "                 in2.insert(0,in2.pop())\n",
    "                 if in1==in2:\n",
    "                     print(\"After Rotation:\",in1,in2)\n",
    "                     print(\"Pass:\",i+1,\"rotational\")# as index in python starts from zero I added i+1\n",
    "                     break\n",
    "                 else:\n",
    "                     print(\"try:\",i+1,\"not rotational\")# as index in python starts from zero I added i+1\n",
    "        else:\n",
    "            print(\"Both words length did not matched\")"
   ]
  },
  {
   "cell_type": "code",
   "execution_count": 5,
   "metadata": {},
   "outputs": [
    {
     "name": "stdout",
     "output_type": "stream",
     "text": [
      "Enter a word 1 : wertyq\n",
      "Enter a word 2 : qwerty\n",
      "Before Rotation: ['w', 'e', 'r', 't', 'y', 'q'] ['q', 'w', 'e', 'r', 't', 'y']\n",
      "try: 1 not rotational\n",
      "try: 2 not rotational\n",
      "try: 3 not rotational\n",
      "try: 4 not rotational\n",
      "After Rotation: ['w', 'e', 'r', 't', 'y', 'q'] ['w', 'e', 'r', 't', 'y', 'q']\n",
      "Pass: 5 rotational\n"
     ]
    }
   ],
   "source": [
    "while True:\n",
    "    rotational(in1,in2)\n",
    "    break"
   ]
  }
 ],
 "metadata": {
  "kernelspec": {
   "display_name": "Python 3",
   "language": "python",
   "name": "python3"
  },
  "language_info": {
   "codemirror_mode": {
    "name": "ipython",
    "version": 3
   },
   "file_extension": ".py",
   "mimetype": "text/x-python",
   "name": "python",
   "nbconvert_exporter": "python",
   "pygments_lexer": "ipython3",
   "version": "3.7.0"
  }
 },
 "nbformat": 4,
 "nbformat_minor": 2
}
